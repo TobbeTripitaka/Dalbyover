{
 "cells": [
  {
   "cell_type": "code",
   "execution_count": 2,
   "metadata": {
    "collapsed": true
   },
   "outputs": [],
   "source": [
    "x=3"
   ]
  },
  {
   "cell_type": "code",
   "execution_count": 3,
   "metadata": {
    "collapsed": false
   },
   "outputs": [
    {
     "data": {
      "text/plain": [
       "3"
      ]
     },
     "execution_count": 3,
     "metadata": {},
     "output_type": "execute_result"
    }
   ],
   "source": [
    "x\n"
   ]
  },
  {
   "cell_type": "code",
   "execution_count": 4,
   "metadata": {
    "collapsed": false
   },
   "outputs": [
    {
     "name": "stderr",
     "output_type": "stream",
     "text": [
      "/Library/Frameworks/Python.framework/Versions/2.7/lib/python2.7/site-packages/PIL/Image.py:81: RuntimeWarning: The _imaging extension was built for another  version of Pillow or PIL\n",
      "  warnings.warn(str(v), RuntimeWarning)\n",
      "/Library/Frameworks/Python.framework/Versions/2.7/lib/python2.7/site-packages/ipykernel/__main__.py:14: RuntimeWarning: divide by zero encountered in divide\n",
      "/Library/Frameworks/Python.framework/Versions/2.7/lib/python2.7/site-packages/ipykernel/__main__.py:15: RuntimeWarning: divide by zero encountered in divide\n",
      "/Library/Frameworks/Python.framework/Versions/2.7/lib/python2.7/site-packages/ipykernel/__main__.py:16: RuntimeWarning: divide by zero encountered in divide\n",
      "/Library/Python/2.7/site-packages/matplotlib-override/matplotlib/lines.py:503: RuntimeWarning: invalid value encountered in subtract\n",
      "  return np.alltrue(x[1:] - x[0:-1] >= 0)\n",
      "/Library/Python/2.7/site-packages/matplotlib-override/matplotlib/lines.py:503: RuntimeWarning: invalid value encountered in greater_equal\n",
      "  return np.alltrue(x[1:] - x[0:-1] >= 0)\n"
     ]
    }
   ],
   "source": [
    "import numpy as np\n",
    "import matplotlib.pyplot as plt\n",
    "\n",
    "in_file = 'TRGS8068-Dalbyover5.LAS'\n",
    "\n",
    "in_data = np.genfromtxt(in_file, skiprows=39, delimiter=(10,)+(9,)+(14,)*6, usecols = (0, 2, 3, 4))\n",
    "\n",
    "\n",
    "#\tin_data 0=d, 1=r1, 2=r2, 3=r3\n",
    "\n",
    "d = in_data[:,0]\n",
    "M = 10**6\n",
    "\n",
    "v1 = M*0.20/(in_data[:,2]-in_data[:,1])\n",
    "v2 = M*0.20/(in_data[:,3]-in_data[:,2])\n",
    "v3 = M*0.40/(in_data[:,3]-in_data[:,1])\n",
    "\n",
    "#gamma= in_data[:,4]\n",
    "\n",
    "plt.figure(figsize=(6,12))\n",
    "plt.plot(v1,d+0.1, lw=2, color='black', alpha=0.9)\n",
    "plt.plot(v2,d-0.1, lw=2, color='red', alpha=0.9)\n",
    "plt.plot(v3,d, lw=2, color='blue', alpha=0.2)\n",
    "plt.title('Sonic velocity', fontsize = 12 )\n",
    "plt.ylabel( 'Depth (m)', fontsize = 12)\n",
    "plt.xlabel('Velocity (m/s)', fontsize = 12)\n",
    "# plt.ylim((-1.1,1.1))\n",
    "plt.xlim(0,12000)\n",
    "plt.gca().invert_yaxis()\n",
    "\n",
    "plt.grid()\n",
    "plt.show()\n"
   ]
  },
  {
   "cell_type": "code",
   "execution_count": 5,
   "metadata": {
    "collapsed": false
   },
   "outputs": [
    {
     "ename": "ImportError",
     "evalue": "No module named numba",
     "output_type": "error",
     "traceback": [
      "\u001b[0;31m---------------------------------------------------------------------------\u001b[0m",
      "\u001b[0;31mImportError\u001b[0m                               Traceback (most recent call last)",
      "\u001b[0;32m<ipython-input-5-3e3e5552d464>\u001b[0m in \u001b[0;36m<module>\u001b[0;34m()\u001b[0m\n\u001b[1;32m      7\u001b[0m \u001b[0;32mimport\u001b[0m \u001b[0mpylab\u001b[0m\u001b[0;34m\u001b[0m\u001b[0m\n\u001b[1;32m      8\u001b[0m \u001b[0;34m\u001b[0m\u001b[0m\n\u001b[0;32m----> 9\u001b[0;31m \u001b[0;32mfrom\u001b[0m \u001b[0mnumba\u001b[0m \u001b[0;32mimport\u001b[0m \u001b[0mjit\u001b[0m\u001b[0;34m\u001b[0m\u001b[0m\n\u001b[0m\u001b[1;32m     10\u001b[0m \u001b[0;34m\u001b[0m\u001b[0m\n\u001b[1;32m     11\u001b[0m \u001b[0;34m@\u001b[0m\u001b[0mjit\u001b[0m\u001b[0;34m\u001b[0m\u001b[0m\n",
      "\u001b[0;31mImportError\u001b[0m: No module named numba"
     ]
    }
   ],
   "source": [
    "#!/usr/bin/env python\n",
    "\"\"\"\n",
    "Compute and plot the Mandelbrot set using matplotlib.\n",
    "\"\"\"\n",
    "\n",
    "import numpy as np\n",
    "import pylab\n",
    "\n",
    "from numba import jit\n",
    "\n",
    "@jit\n",
    "def mandel(x, y, max_iters):\n",
    "    \"\"\"\n",
    "    Given the real and imaginary parts of a complex number,\n",
    "    determine if it is a candidate for membership in the Mandelbrot\n",
    "    set given a fixed number of iterations.\n",
    "    \"\"\"\n",
    "    c = complex(x,y)\n",
    "    z = 0j\n",
    "    for i in range(max_iters):\n",
    "        z = z*z + c\n",
    "        if z.real * z.real + z.imag * z.imag >= 4:\n",
    "            return 255 * i // max_iters\n",
    "\n",
    "    return 255\n",
    "\n",
    "@jit(nopython=True)\n",
    "def create_fractal(min_x, max_x, min_y, max_y, image, iters):\n",
    "    height = image.shape[0]\n",
    "    width = image.shape[1]\n",
    "\n",
    "    pixel_size_x = (max_x - min_x) / width\n",
    "    pixel_size_y = (max_y - min_y) / height\n",
    "    for x in range(width):\n",
    "        real = min_x + x * pixel_size_x\n",
    "        for y in range(height):\n",
    "            imag = min_y + y * pixel_size_y\n",
    "            color = mandel(real, imag, iters)\n",
    "            image[y, x] = color\n",
    "\n",
    "    return image\n",
    "\n",
    "image = np.zeros((700, 1400), dtype=np.uint8)\n",
    "create_fractal(-2.0, 1.0, -1.0, 1.0, image, 20)\n",
    "\n",
    "pylab.imshow(image)\n",
    "pylab.gray()\n",
    "pylab.show()"
   ]
  },
  {
   "cell_type": "code",
   "execution_count": null,
   "metadata": {
    "collapsed": true
   },
   "outputs": [],
   "source": []
  }
 ],
 "metadata": {
  "kernelspec": {
   "display_name": "Python 2",
   "language": "python",
   "name": "python2"
  },
  "language_info": {
   "codemirror_mode": {
    "name": "ipython",
    "version": 2
   },
   "file_extension": ".py",
   "mimetype": "text/x-python",
   "name": "python",
   "nbconvert_exporter": "python",
   "pygments_lexer": "ipython2",
   "version": "2.7.10"
  }
 },
 "nbformat": 4,
 "nbformat_minor": 0
}
