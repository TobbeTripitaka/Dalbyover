{
 "cells": [
  {
   "cell_type": "markdown",
   "metadata": {},
   "source": [
    "# Sonic log - Dalbyover 59.459  \n",
    "\n",
    "Reading LAS wireline log file, calculate sonic velocity from arrival times. \n",
    " \n",
    "Problems so far:\n",
    "\n",
    "1. Wrong scaling of the entire log. The velocities are about (?) 3 times too high. I also tried to calculate velocities from the distances according to the [factsheet](https://github.com/TobbeTripitaka/Dalbyover/blob/master/Sonic-slimhole_TRGS8068.pdf) of the tool (0.60, 0.80 and 1.00m) and the times in $\\mu$s (column 2,3,4 in LAS-file), but the results are exacetly the same as the precalculated velocities (column 5,6,7 in LAS-file). The header of the [LAS files](https://github.com/TobbeTripitaka/Dalbyover/tree/master/data) states that the measurements are in _m_ and _km_ but this might be wrong. \n",
    "\n",
    "\n",
    "2. R2R1 and R3R2 don't agree in the upper 40m, the most interesting depths fo us. Can it be related to Cycle Skipping? Can it be a time mute? Or are we simply measuring the mud and water velocities as the velocities in dry chalk are lower. \n",
    "\n",
    "To be continued. "
   ]
  },
  {
   "cell_type": "code",
   "execution_count": 17,
   "metadata": {
    "collapsed": true
   },
   "outputs": [],
   "source": [
    "#Plot in document\n",
    "%matplotlib inline"
   ]
  },
  {
   "cell_type": "code",
   "execution_count": 376,
   "metadata": {
    "collapsed": false
   },
   "outputs": [
    {
     "name": "stdout",
     "output_type": "stream",
     "text": [
      "(5.69, 10395.01, 125.57, 168.29, 320.29, 4.68, 1.32, 2.05, 8.26, 8.49, 8.4, 10.86, 10.86, 8.58, 14.5)\n",
      "('DEPTH', 'TIME', 'TXRX1', 'TXRX2', 'TXRX3', 'R1R2', 'R2R3', 'R1R3', 'OUT6', 'NGM1', 'NGM2', 'COND1', 'COND2', 'TEMP1', 'TEMP2')\n",
      "(36103,)\n",
      "(5.69, 10395.01, 125.57, 168.29, 320.29, 4.68, 1.32, 2.05, 8.26, 8.49, 8.4, 10.86, 10.86, 8.58, 14.5)\n"
     ]
    }
   ],
   "source": [
    "import numpy as np\n",
    "import numpy.lib.recfunctions\n",
    "import matplotlib.pyplot as plt\n",
    "import scipy.signal as signal\n",
    "    \n",
    "def read_LAS(file_name,file_header,file_delimiter):\n",
    "    '''\n",
    "    Read LAS file from Robertson Geologging WinLogger\n",
    "    Specify file name, header and delimiter. Also converts depth to an integer for\n",
    "    joining datasets. \n",
    "    '''\n",
    "#    Def lambda till cm\n",
    "#   in_file = in_file.astype('float')     in_file[in_file<=0]=numpy.nan\n",
    "\n",
    "    in_file = np.genfromtxt(file_name, skiprows=file_header, filling_values=np.nan,\n",
    "                            missing_values=np.nan,\n",
    "                            dtype='f8', delimiter=file_delimiter,\n",
    "                            names=True, deletechars = 'A__', autostrip = True)\n",
    "    for column in in_file.dtype.names:\n",
    "        in_file[column][in_file[column]<=0]=np.nan\n",
    "    \n",
    "#    in_file['DEPTH'].astype(int) converters = {0: lambda d: 100*float(d)},\n",
    "    return in_file\n",
    "\n",
    "\n",
    "\n",
    "def smooth_filter(raw,kernel=11):\n",
    "    '''\n",
    "    Apply median filter, set window size. Must be odd number. \n",
    "\n",
    "    '''\n",
    "    return signal.medfilt(raw, kernel_size=kernel)\n",
    "\n",
    "# In files \n",
    "in_sonic = ['data/TRGS8068-Dalbyover5.LAS', 'data/TRGS8068-Dalbyover4.LAS']\n",
    "in_electric = ['data/TCDS3719-Dalbyover1.LAS', 'data/TCDS3719-Dalbyover2.LAS']\n",
    "\n",
    "# Read and merge sonic logs\n",
    "sonic_1 = read_LAS(in_sonic[0],38,(10,)+(9,)+(14,)*7)\n",
    "sonic_2 = read_LAS(in_sonic[1],38,(10,)+(9,)+(14,)*7)\n",
    "sonic = np.concatenate((sonic_1,sonic_2),axis=0)\n",
    "\n",
    "# Read and join electric logs\n",
    "electric_1 = read_LAS(in_electric[0],33,(10,)+(14,)*3)\n",
    "electric_2 = read_LAS(in_electric[1],33,(10,)+(14,)*3)\n",
    "electric = np.lib.recfunctions.join_by('DEPTH', electric_1, electric_2, jointype='outer',usemask=False)\n",
    "\n",
    "# Join all data\n",
    "data = np.lib.recfunctions.join_by('DEPTH', sonic, electric, \n",
    "                                   jointype='outer', usemask=False)\n",
    "\n",
    "#data.fill_value = np.NaN\n",
    "#data = data.filled()\n",
    "\n",
    "\n",
    "# Make Nan\n",
    "print data[568]\n",
    "print data.dtype.names\n",
    "print data.shape\n",
    "print data[568]\n",
    "\n",
    "# Save a file with sonic and electric data\n",
    "np.savetxt('data.txt',data,fmt='%5.2f') "
   ]
  },
  {
   "cell_type": "markdown",
   "metadata": {
    "collapsed": true
   },
   "source": [
    "Plots of velocities from R2-R1 and R3-R2. R3-R1 is commented out for clarity. \n",
    "\n",
    "To fix:\n",
    "Make NaN at -999.25 and Sonic missing\n",
    "Make calculated velocities and show with tools velocities\n",
    "Calculate a fex exemples\n",
    "Inspect data\n",
    "Plot gamma logs and differences/variations\n",
    "Make functions and loops\n",
    "Print dtype for data array\n",
    "water mud curve"
   ]
  },
  {
   "cell_type": "code",
   "execution_count": 377,
   "metadata": {
    "collapsed": false
   },
   "outputs": [],
   "source": [
    "# Try scaling of velocity. Try e.g. 0.3048, meters to feet.\n",
    "C = 0.3048\n",
    "\n",
    "# m us to s 0.3048\n",
    "u = 10**-6 \n",
    "\n",
    "# Calculate velocity from spacing (20cm) and arrival time difference\n",
    "#np.seterr(divide='ignore')\n",
    "#v1 = 0.2/(data['TXRX2']-data['TXRX1'])\n",
    "#v2 = 0.2/(data['TXRX3']-data['TXRX2'])\n",
    "\n",
    "#print max(v1)\n",
    "#print max(data['TXRX2'])\n",
    "\n",
    "#print v1.shape\n",
    "#print data['DEPTH'].shape\n",
    "#v3 = C*0.40/(in_data[:,4]-in_data[:,2])\t\t#R3-R1\n",
    "\n",
    "\n",
    "# Calculate a few exemples\n",
    "\n",
    "sample_depths = [30,10.2,20,100,30]\n",
    "sample_depths.sort()\n",
    "\n",
    "#for sample in sample_depths:\n",
    "#    depth_index = np.where(in_data[:,0]==sample)\n",
    "#    v1 = 1000*C*0.20/(sonic[depth_index,3]-sonic[depth_index,2]) #R2-R1\n",
    "#    v2 = 1000*C*0.20/(sonic[depth_index,4]-sonic[depth_index,3]) #R3-R2\n",
    "#    print 'v at %.2fm is %f (R2-R1) and %f (R3-R2).' % (sample,v1,v2)\n"
   ]
  },
  {
   "cell_type": "code",
   "execution_count": 378,
   "metadata": {
    "collapsed": false
   },
   "outputs": [
    {
     "ename": "ValueError",
     "evalue": "x and y must have same first dimension",
     "output_type": "error",
     "traceback": [
      "\u001b[0;31m---------------------------------------------------------------------------\u001b[0m",
      "\u001b[0;31mValueError\u001b[0m                                Traceback (most recent call last)",
      "\u001b[0;32m<ipython-input-378-7be687d04c59>\u001b[0m in \u001b[0;36m<module>\u001b[0;34m()\u001b[0m\n\u001b[1;32m     22\u001b[0m \u001b[0;31m#R1R3\u001b[0m\u001b[0;34m\u001b[0m\u001b[0;34m\u001b[0m\u001b[0m\n\u001b[1;32m     23\u001b[0m \u001b[0;34m\u001b[0m\u001b[0m\n\u001b[0;32m---> 24\u001b[0;31m \u001b[0mplt\u001b[0m\u001b[0;34m.\u001b[0m\u001b[0mplot\u001b[0m\u001b[0;34m(\u001b[0m\u001b[0mv1\u001b[0m\u001b[0;34m,\u001b[0m\u001b[0mdata\u001b[0m\u001b[0;34m[\u001b[0m\u001b[0;34m'DEPTH'\u001b[0m\u001b[0;34m]\u001b[0m\u001b[0;34m/\u001b[0m\u001b[0;36m100\u001b[0m\u001b[0;34m-\u001b[0m\u001b[0;36m0.1\u001b[0m\u001b[0;34m,\u001b[0m \u001b[0mlw\u001b[0m\u001b[0;34m=\u001b[0m\u001b[0;36m0.5\u001b[0m\u001b[0;34m,\u001b[0m \u001b[0mcolor\u001b[0m\u001b[0;34m=\u001b[0m\u001b[0;34m'red'\u001b[0m\u001b[0;34m,\u001b[0m \u001b[0malpha\u001b[0m\u001b[0;34m=\u001b[0m\u001b[0;36m0.9\u001b[0m\u001b[0;34m)\u001b[0m\u001b[0;34m\u001b[0m\u001b[0m\n\u001b[0m\u001b[1;32m     25\u001b[0m \u001b[0mplt\u001b[0m\u001b[0;34m.\u001b[0m\u001b[0mplot\u001b[0m\u001b[0;34m(\u001b[0m\u001b[0mv2\u001b[0m\u001b[0;34m,\u001b[0m\u001b[0mdata\u001b[0m\u001b[0;34m[\u001b[0m\u001b[0;34m'DEPTH'\u001b[0m\u001b[0;34m]\u001b[0m\u001b[0;34m/\u001b[0m\u001b[0;36m100\u001b[0m\u001b[0;34m-\u001b[0m\u001b[0;36m0.1\u001b[0m\u001b[0;34m,\u001b[0m \u001b[0mlw\u001b[0m\u001b[0;34m=\u001b[0m\u001b[0;36m0.5\u001b[0m\u001b[0;34m,\u001b[0m \u001b[0mcolor\u001b[0m\u001b[0;34m=\u001b[0m\u001b[0;34m'black'\u001b[0m\u001b[0;34m,\u001b[0m \u001b[0malpha\u001b[0m\u001b[0;34m=\u001b[0m\u001b[0;36m0.9\u001b[0m\u001b[0;34m)\u001b[0m\u001b[0;34m\u001b[0m\u001b[0m\n\u001b[1;32m     26\u001b[0m \u001b[0;34m\u001b[0m\u001b[0m\n",
      "\u001b[0;32m/Library/Python/2.7/site-packages/matplotlib-override/matplotlib/pyplot.pyc\u001b[0m in \u001b[0;36mplot\u001b[0;34m(*args, **kwargs)\u001b[0m\n\u001b[1;32m   2985\u001b[0m         \u001b[0max\u001b[0m\u001b[0;34m.\u001b[0m\u001b[0mhold\u001b[0m\u001b[0;34m(\u001b[0m\u001b[0mhold\u001b[0m\u001b[0;34m)\u001b[0m\u001b[0;34m\u001b[0m\u001b[0m\n\u001b[1;32m   2986\u001b[0m     \u001b[0;32mtry\u001b[0m\u001b[0;34m:\u001b[0m\u001b[0;34m\u001b[0m\u001b[0m\n\u001b[0;32m-> 2987\u001b[0;31m         \u001b[0mret\u001b[0m \u001b[0;34m=\u001b[0m \u001b[0max\u001b[0m\u001b[0;34m.\u001b[0m\u001b[0mplot\u001b[0m\u001b[0;34m(\u001b[0m\u001b[0;34m*\u001b[0m\u001b[0margs\u001b[0m\u001b[0;34m,\u001b[0m \u001b[0;34m**\u001b[0m\u001b[0mkwargs\u001b[0m\u001b[0;34m)\u001b[0m\u001b[0;34m\u001b[0m\u001b[0m\n\u001b[0m\u001b[1;32m   2988\u001b[0m         \u001b[0mdraw_if_interactive\u001b[0m\u001b[0;34m(\u001b[0m\u001b[0;34m)\u001b[0m\u001b[0;34m\u001b[0m\u001b[0m\n\u001b[1;32m   2989\u001b[0m     \u001b[0;32mfinally\u001b[0m\u001b[0;34m:\u001b[0m\u001b[0;34m\u001b[0m\u001b[0m\n",
      "\u001b[0;32m/Library/Python/2.7/site-packages/matplotlib-override/matplotlib/axes.pyc\u001b[0m in \u001b[0;36mplot\u001b[0;34m(self, *args, **kwargs)\u001b[0m\n\u001b[1;32m   4135\u001b[0m         \u001b[0mlines\u001b[0m \u001b[0;34m=\u001b[0m \u001b[0;34m[\u001b[0m\u001b[0;34m]\u001b[0m\u001b[0;34m\u001b[0m\u001b[0m\n\u001b[1;32m   4136\u001b[0m \u001b[0;34m\u001b[0m\u001b[0m\n\u001b[0;32m-> 4137\u001b[0;31m         \u001b[0;32mfor\u001b[0m \u001b[0mline\u001b[0m \u001b[0;32min\u001b[0m \u001b[0mself\u001b[0m\u001b[0;34m.\u001b[0m\u001b[0m_get_lines\u001b[0m\u001b[0;34m(\u001b[0m\u001b[0;34m*\u001b[0m\u001b[0margs\u001b[0m\u001b[0;34m,\u001b[0m \u001b[0;34m**\u001b[0m\u001b[0mkwargs\u001b[0m\u001b[0;34m)\u001b[0m\u001b[0;34m:\u001b[0m\u001b[0;34m\u001b[0m\u001b[0m\n\u001b[0m\u001b[1;32m   4138\u001b[0m             \u001b[0mself\u001b[0m\u001b[0;34m.\u001b[0m\u001b[0madd_line\u001b[0m\u001b[0;34m(\u001b[0m\u001b[0mline\u001b[0m\u001b[0;34m)\u001b[0m\u001b[0;34m\u001b[0m\u001b[0m\n\u001b[1;32m   4139\u001b[0m             \u001b[0mlines\u001b[0m\u001b[0;34m.\u001b[0m\u001b[0mappend\u001b[0m\u001b[0;34m(\u001b[0m\u001b[0mline\u001b[0m\u001b[0;34m)\u001b[0m\u001b[0;34m\u001b[0m\u001b[0m\n",
      "\u001b[0;32m/Library/Python/2.7/site-packages/matplotlib-override/matplotlib/axes.pyc\u001b[0m in \u001b[0;36m_grab_next_args\u001b[0;34m(self, *args, **kwargs)\u001b[0m\n\u001b[1;32m    315\u001b[0m                 \u001b[0;32mreturn\u001b[0m\u001b[0;34m\u001b[0m\u001b[0m\n\u001b[1;32m    316\u001b[0m             \u001b[0;32mif\u001b[0m \u001b[0mlen\u001b[0m\u001b[0;34m(\u001b[0m\u001b[0mremaining\u001b[0m\u001b[0;34m)\u001b[0m \u001b[0;34m<=\u001b[0m \u001b[0;36m3\u001b[0m\u001b[0;34m:\u001b[0m\u001b[0;34m\u001b[0m\u001b[0m\n\u001b[0;32m--> 317\u001b[0;31m                 \u001b[0;32mfor\u001b[0m \u001b[0mseg\u001b[0m \u001b[0;32min\u001b[0m \u001b[0mself\u001b[0m\u001b[0;34m.\u001b[0m\u001b[0m_plot_args\u001b[0m\u001b[0;34m(\u001b[0m\u001b[0mremaining\u001b[0m\u001b[0;34m,\u001b[0m \u001b[0mkwargs\u001b[0m\u001b[0;34m)\u001b[0m\u001b[0;34m:\u001b[0m\u001b[0;34m\u001b[0m\u001b[0m\n\u001b[0m\u001b[1;32m    318\u001b[0m                     \u001b[0;32myield\u001b[0m \u001b[0mseg\u001b[0m\u001b[0;34m\u001b[0m\u001b[0m\n\u001b[1;32m    319\u001b[0m                 \u001b[0;32mreturn\u001b[0m\u001b[0;34m\u001b[0m\u001b[0m\n",
      "\u001b[0;32m/Library/Python/2.7/site-packages/matplotlib-override/matplotlib/axes.pyc\u001b[0m in \u001b[0;36m_plot_args\u001b[0;34m(self, tup, kwargs)\u001b[0m\n\u001b[1;32m    293\u001b[0m             \u001b[0mx\u001b[0m \u001b[0;34m=\u001b[0m \u001b[0mnp\u001b[0m\u001b[0;34m.\u001b[0m\u001b[0marange\u001b[0m\u001b[0;34m(\u001b[0m\u001b[0my\u001b[0m\u001b[0;34m.\u001b[0m\u001b[0mshape\u001b[0m\u001b[0;34m[\u001b[0m\u001b[0;36m0\u001b[0m\u001b[0;34m]\u001b[0m\u001b[0;34m,\u001b[0m \u001b[0mdtype\u001b[0m\u001b[0;34m=\u001b[0m\u001b[0mfloat\u001b[0m\u001b[0;34m)\u001b[0m\u001b[0;34m\u001b[0m\u001b[0m\n\u001b[1;32m    294\u001b[0m \u001b[0;34m\u001b[0m\u001b[0m\n\u001b[0;32m--> 295\u001b[0;31m         \u001b[0mx\u001b[0m\u001b[0;34m,\u001b[0m \u001b[0my\u001b[0m \u001b[0;34m=\u001b[0m \u001b[0mself\u001b[0m\u001b[0;34m.\u001b[0m\u001b[0m_xy_from_xy\u001b[0m\u001b[0;34m(\u001b[0m\u001b[0mx\u001b[0m\u001b[0;34m,\u001b[0m \u001b[0my\u001b[0m\u001b[0;34m)\u001b[0m\u001b[0;34m\u001b[0m\u001b[0m\n\u001b[0m\u001b[1;32m    296\u001b[0m \u001b[0;34m\u001b[0m\u001b[0m\n\u001b[1;32m    297\u001b[0m         \u001b[0;32mif\u001b[0m \u001b[0mself\u001b[0m\u001b[0;34m.\u001b[0m\u001b[0mcommand\u001b[0m \u001b[0;34m==\u001b[0m \u001b[0;34m'plot'\u001b[0m\u001b[0;34m:\u001b[0m\u001b[0;34m\u001b[0m\u001b[0m\n",
      "\u001b[0;32m/Library/Python/2.7/site-packages/matplotlib-override/matplotlib/axes.pyc\u001b[0m in \u001b[0;36m_xy_from_xy\u001b[0;34m(self, x, y)\u001b[0m\n\u001b[1;32m    235\u001b[0m         \u001b[0my\u001b[0m \u001b[0;34m=\u001b[0m \u001b[0mnp\u001b[0m\u001b[0;34m.\u001b[0m\u001b[0matleast_1d\u001b[0m\u001b[0;34m(\u001b[0m\u001b[0my\u001b[0m\u001b[0;34m)\u001b[0m\u001b[0;34m\u001b[0m\u001b[0m\n\u001b[1;32m    236\u001b[0m         \u001b[0;32mif\u001b[0m \u001b[0mx\u001b[0m\u001b[0;34m.\u001b[0m\u001b[0mshape\u001b[0m\u001b[0;34m[\u001b[0m\u001b[0;36m0\u001b[0m\u001b[0;34m]\u001b[0m \u001b[0;34m!=\u001b[0m \u001b[0my\u001b[0m\u001b[0;34m.\u001b[0m\u001b[0mshape\u001b[0m\u001b[0;34m[\u001b[0m\u001b[0;36m0\u001b[0m\u001b[0;34m]\u001b[0m\u001b[0;34m:\u001b[0m\u001b[0;34m\u001b[0m\u001b[0m\n\u001b[0;32m--> 237\u001b[0;31m             \u001b[0;32mraise\u001b[0m \u001b[0mValueError\u001b[0m\u001b[0;34m(\u001b[0m\u001b[0;34m\"x and y must have same first dimension\"\u001b[0m\u001b[0;34m)\u001b[0m\u001b[0;34m\u001b[0m\u001b[0m\n\u001b[0m\u001b[1;32m    238\u001b[0m         \u001b[0;32mif\u001b[0m \u001b[0mx\u001b[0m\u001b[0;34m.\u001b[0m\u001b[0mndim\u001b[0m \u001b[0;34m>\u001b[0m \u001b[0;36m2\u001b[0m \u001b[0;32mor\u001b[0m \u001b[0my\u001b[0m\u001b[0;34m.\u001b[0m\u001b[0mndim\u001b[0m \u001b[0;34m>\u001b[0m \u001b[0;36m2\u001b[0m\u001b[0;34m:\u001b[0m\u001b[0;34m\u001b[0m\u001b[0m\n\u001b[1;32m    239\u001b[0m             \u001b[0;32mraise\u001b[0m \u001b[0mValueError\u001b[0m\u001b[0;34m(\u001b[0m\u001b[0;34m\"x and y can be no greater than 2-D\"\u001b[0m\u001b[0;34m)\u001b[0m\u001b[0;34m\u001b[0m\u001b[0m\n",
      "\u001b[0;31mValueError\u001b[0m: x and y must have same first dimension"
     ]
    },
    {
     "data": {
      "image/png": "[encoded data removed]",
      "text/plain": [
       "<matplotlib.figure.Figure at 0x10b20b490>"
      ]
     },
     "metadata": {},
     "output_type": "display_data"
    }
   ],
   "source": [
    "# Plot sonic\n",
    "\n",
    "# Apply smoothing filter kernel is median window size, must be odd\n",
    "kernel=99\n",
    "\n",
    "\n",
    "fig = plt.figure(figsize=(10,12))\n",
    "fig.subplots_adjust(wspace=0.05)\n",
    "\n",
    "ax1 = plt.subplot(121)\n",
    "ax1.set_ylim(ax1.get_ylim()[::-1]) \n",
    "plt.title('Sonic velocity (km/s)', fontsize = 12)\n",
    "plt.ylabel('Well depth (m)', fontsize = 12)\n",
    "\n",
    "#Plot mud velocity 5,300 feet/s\n",
    "plt.axvline(x=C*5.188, color='red', label='mud',lw=2,alpha=0.5,ymin=0.85)\n",
    "plt.axvline(x=1.489, color='blue', label='water',lw=2,alpha=0.5,ymin=0.85)\n",
    "\n",
    "#Plot raw data\n",
    "plt.plot(C*data['R1R2'],data['DEPTH']/100+0.1, lw=0.5, color='yellow', alpha=0.3)\n",
    "plt.plot(C*data['R2R3'],data['DEPTH']/100-0.1, lw=0.5, color='green', alpha=0.3)\n",
    "#R1R3\n",
    "\n",
    "plt.plot(v1,data['DEPTH']/100-0.1, lw=0.5, color='red', alpha=0.9)\n",
    "plt.plot(v2,data['DEPTH']/100-0.1, lw=0.5, color='black', alpha=0.9)\n",
    "\n",
    "#Plot filtered data\n",
    "#plt.plot(smooth_filter(C*data['R1R2'],kernel),data['DEPTH']/100+0.1, lw=1, color='black', alpha=0.9)\n",
    "#plt.plot(smooth_filter(C*data['R2R3'],kernel),data['DEPTH']/100-0.1, lw=1, color='green', alpha=0.9)\n",
    "\n",
    "\n",
    "#smooth R1R3\n",
    "\n",
    "plt.setp(ax1.get_xticklabels(), fontsize=12)\n",
    "plt.xlim(0, 15*C)\n",
    "plt.grid()\n",
    "plt.legend()\n",
    "\n",
    "# Plot gamma\n",
    "ax2 = plt.subplot(122, sharey=ax1)\n",
    "plt.title('Gamma', fontsize = 12)\n",
    "plt.plot(data['NGM1'],data['DEPTH']/100+0.1, lw=1, color='black', label='API', alpha=0.9)\n",
    "plt.xlim(0, 30)\n",
    "plt.ylim(max(data['DEPTH']/100),0)\n",
    "plt.setp(ax2.get_yticklabels(), visible=False)\n",
    "plt.grid()\n",
    "plt.legend()\n",
    "\n",
    "plt.show()"
   ]
  },
  {
   "cell_type": "markdown",
   "metadata": {},
   "source": [
    "Sonic velocities in drill mud is in the range of 185-189 $\\mu/ ft$. See [Petrowiki](http://petrowiki.org/Porosity_evaluation_with_acoustic_logging). The lower value is typical for salt mud and showed as a red line in sonic plot. Also velocity for water at about 10 degrees is plotted in blue. \n",
    "The velocities for the upper section are very close to these values. As very low velocities are expected in the chalk, the measured signal might actually be from the mud. \n",
    "\n",
    "## Conductivity\n",
    "TCDS3719-Dalbyover1.LAS and TCDS3719-Dalbyover2.LAS contains conductivity, temperature and gamma logs. "
   ]
  },
  {
   "cell_type": "code",
   "execution_count": 155,
   "metadata": {
    "collapsed": false
   },
   "outputs": [
    {
     "name": "stdout",
     "output_type": "stream",
     "text": [
      "-0.19\n",
      "-0.18\n",
      "-0.17\n",
      "-0.16\n",
      "-0.15\n",
      "-0.14\n",
      "-0.13\n",
      "-0.12\n",
      "-0.11\n",
      "-0.1\n"
     ]
    }
   ],
   "source": [
    "\n",
    "\n",
    "#Make array where column 1 is counting from min(array 1 and 2) to max(array 1 and 2) in \n",
    "#smallest steps\n",
    "#Loop steps and look in both logs if they are\n",
    "#Flag/count differences\n",
    "#Calculate difference where non is zero\n",
    "\n",
    "\n",
    "\n",
    "\n",
    "\n",
    "\n",
    "for depth in electric[0:10,0]:\n",
    "    print depth\n",
    "#    depth_index = np.where(electric_extra[:,0]==depth)\n",
    "    \n",
    "    "
   ]
  },
  {
   "cell_type": "code",
   "execution_count": null,
   "metadata": {
    "collapsed": true
   },
   "outputs": [],
   "source": [
    "dtype = [('DEPTH', np.float), \n",
    "        ('TIME_SONIC', np.float),\n",
    "        ('TXRX1', np.float),\n",
    "        ('TXRX2', np.float),\n",
    "        ('TXRX3', np.float),\n",
    "        ('R1R2', np.float),\n",
    "        ('R2R3', np.float),\n",
    "        ('R1R3', np.float),\n",
    "        ('NGAM_SONIC', np.float),\n",
    "        ('TEMP_ELEC1', np.float),\n",
    "        ('COND_ELEC1', np.float),\n",
    "        ('NGAM_ELEC1', np.float),\n",
    "        ('TEMP_ELEC2', np.float),\n",
    "        ('COND_ELEC2', np.float),\n",
    "        ('NGAM_ELEC2', np.float)]"
   ]
  }
 ],
 "metadata": {
  "kernelspec": {
   "display_name": "Python 2",
   "language": "python",
   "name": "python2"
  },
  "language_info": {
   "codemirror_mode": {
    "name": "ipython",
    "version": 2
   },
   "file_extension": ".py",
   "mimetype": "text/x-python",
   "name": "python",
   "nbconvert_exporter": "python",
   "pygments_lexer": "ipython2",
   "version": "2.7.10"
  }
 },
 "nbformat": 4,
 "nbformat_minor": 0
}
