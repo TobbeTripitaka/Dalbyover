{
 "cells": [
  {
   "cell_type": "code",
   "execution_count": 1,
   "metadata": {
    "collapsed": false
   },
   "outputs": [
    {
     "name": "stderr",
     "output_type": "stream",
     "text": [
      "/Library/Frameworks/Python.framework/Versions/2.7/lib/python2.7/site-packages/PIL/Image.py:81: RuntimeWarning: The _imaging extension was built for another  version of Pillow or PIL\n",
      "  warnings.warn(str(v), RuntimeWarning)\n",
      "/Library/Frameworks/Python.framework/Versions/2.7/lib/python2.7/site-packages/ipykernel/__main__.py:16: RuntimeWarning: divide by zero encountered in divide\n",
      "/Library/Frameworks/Python.framework/Versions/2.7/lib/python2.7/site-packages/ipykernel/__main__.py:17: RuntimeWarning: divide by zero encountered in divide\n",
      "/Library/Frameworks/Python.framework/Versions/2.7/lib/python2.7/site-packages/ipykernel/__main__.py:18: RuntimeWarning: divide by zero encountered in divide\n",
      "/Library/Python/2.7/site-packages/matplotlib-override/matplotlib/lines.py:503: RuntimeWarning: invalid value encountered in subtract\n",
      "  return np.alltrue(x[1:] - x[0:-1] >= 0)\n"
     ]
    },
    {
     "name": "stdout",
     "output_type": "stream",
     "text": [
      "<type 'numpy.ndarray'>\n"
     ]
    },
    {
     "name": "stderr",
     "output_type": "stream",
     "text": [
      "/Library/Python/2.7/site-packages/matplotlib-override/matplotlib/lines.py:503: RuntimeWarning: invalid value encountered in greater_equal\n",
      "  return np.alltrue(x[1:] - x[0:-1] >= 0)\n"
     ]
    }
   ],
   "source": [
    "import numpy as np\n",
    "import matplotlib.pyplot as plt\n",
    "\n",
    "in_file = 'TRGS8068-Dalbyover5.LAS'\n",
    "\n",
    "in_data = np.genfromtxt(in_file, skiprows=39, delimiter=(10,)+(9,)+(14,)*6, usecols = (0, 2, 3, 4))\n",
    "\n",
    "\n",
    "#\tin_data 0=d, 1=r1, 2=r2, 3=r3\n",
    "\n",
    "d = in_data[:,0]\n",
    "M = 10**6\n",
    "\n",
    "print type(d)\n",
    "\n",
    "v1 = M*0.20/(in_data[:,2]-in_data[:,1])\n",
    "v2 = M*0.20/(in_data[:,3]-in_data[:,2])\n",
    "v3 = M*0.40/(in_data[:,3]-in_data[:,1])\n",
    "\n",
    "\n",
    "\n",
    "#[3*x for x in [111, 222, 333]]\n",
    "\n",
    "\n",
    "\n",
    "#gamma= in_data[:,4]\n",
    "\n",
    "plt.figure(figsize=(6,12))\n",
    "\n",
    "#plt.plot(v3,d, lw=2, color='blue', alpha=0.5)\n",
    "plt.plot(v2,d-0.1, lw=2, color='red', alpha=0.5)\n",
    "plt.plot(v1,d+0.1, lw=2, color='black', alpha=0.8)\n",
    "plt.title('Sonic velocity', fontsize = 12 )\n",
    "plt.ylabel( 'Depth (m)', fontsize = 12)\n",
    "plt.xlabel('Velocity (m/s)', fontsize = 12)\n",
    "# plt.ylim((-1.1,1.1))\n",
    "plt.xlim(0,12000)\n",
    "plt.gca().invert_yaxis()\n",
    "\n",
    "plt.grid()\n",
    "plt.show()"
   ]
  },
  {
   "cell_type": "code",
   "execution_count": 3,
   "metadata": {
    "collapsed": false
   },
   "outputs": [
    {
     "name": "stdout",
     "output_type": "stream",
     "text": [
      "[ 119.98  119.97  119.96  119.95]\n"
     ]
    }
   ],
   "source": [
    "d1 = in_data[1:5,0]\n",
    "print d1"
   ]
  },
  {
   "cell_type": "code",
   "execution_count": 4,
   "metadata": {
    "collapsed": false
   },
   "outputs": [
    {
     "name": "stdout",
     "output_type": "stream",
     "text": [
      "[ 0.  0.  0.  0.]\n"
     ]
    }
   ],
   "source": [
    "d2 = in_data[1:5,1]\n",
    "print d2"
   ]
  },
  {
   "cell_type": "code",
   "execution_count": 5,
   "metadata": {
    "collapsed": false
   },
   "outputs": [
    {
     "name": "stdout",
     "output_type": "stream",
     "text": [
      "[ 76.57  76.71  76.71  76.71  76.71]\n"
     ]
    }
   ],
   "source": [
    "a = in_data[500:515,1]\n",
    "print a"
   ]
  },
  {
   "cell_type": "code",
   "execution_count": 6,
   "metadata": {
    "collapsed": false
   },
   "outputs": [
    {
     "name": "stdout",
     "output_type": "stream",
     "text": [
      "[ 101.43  101.43  101.29  101.    100.57]\n"
     ]
    }
   ],
   "source": [
    "b = in_data[500:515,2]\n",
    "print b"
   ]
  },
  {
   "cell_type": "code",
   "execution_count": 7,
   "metadata": {
    "collapsed": false
   },
   "outputs": [
    {
     "data": {
      "text/plain": [
       "array([ 24.86,  24.72,  24.58,  24.29,  23.86])"
      ]
     },
     "execution_count": 7,
     "metadata": {},
     "output_type": "execute_result"
    }
   ],
   "source": [
    "b-a"
   ]
  },
  {
   "cell_type": "code",
   "execution_count": 8,
   "metadata": {
    "collapsed": false
   },
   "outputs": [
    {
     "name": "stdout",
     "output_type": "stream",
     "text": [
      "[           inf            inf            inf ...,  4929.75104757\n",
      "  4777.83086479  4894.76260401]\n"
     ]
    }
   ],
   "source": [
    "print v1\n"
   ]
  },
  {
   "cell_type": "code",
   "execution_count": 9,
   "metadata": {
    "collapsed": false
   },
   "outputs": [
    {
     "name": "stdout",
     "output_type": "stream",
     "text": [
      "[           inf            inf            inf ...,   984.4942161\n",
      "  1191.54006553  1375.23207041]\n"
     ]
    }
   ],
   "source": [
    "print v2"
   ]
  },
  {
   "cell_type": "code",
   "execution_count": 10,
   "metadata": {
    "collapsed": false
   },
   "outputs": [
    {
     "name": "stdout",
     "output_type": "stream",
     "text": [
      "[           inf            inf            inf ...,  1641.22763827\n",
      "  1907.39592771  2147.18986526]\n"
     ]
    }
   ],
   "source": [
    "print v3"
   ]
  },
  {
   "cell_type": "code",
   "execution_count": 11,
   "metadata": {
    "collapsed": false
   },
   "outputs": [
    {
     "data": {
      "text/plain": [
       "array([ 178.  ,  178.14,  178.  ,  177.71,  177.28])"
      ]
     },
     "execution_count": 11,
     "metadata": {},
     "output_type": "execute_result"
    }
   ],
   "source": [
    "a+b"
   ]
  },
  {
   "cell_type": "code",
   "execution_count": null,
   "metadata": {
    "collapsed": true
   },
   "outputs": [],
   "source": []
  }
 ],
 "metadata": {
  "kernelspec": {
   "display_name": "Python 2",
   "language": "python",
   "name": "python2"
  },
  "language_info": {
   "codemirror_mode": {
    "name": "ipython",
    "version": 2
   },
   "file_extension": ".py",
   "mimetype": "text/x-python",
   "name": "python",
   "nbconvert_exporter": "python",
   "pygments_lexer": "ipython2",
   "version": "2.7.10"
  }
 },
 "nbformat": 4,
 "nbformat_minor": 0
}
